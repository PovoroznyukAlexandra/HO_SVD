{
 "cells": [
  {
   "cell_type": "code",
   "execution_count": 75,
   "id": "f34c3147",
   "metadata": {},
   "outputs": [],
   "source": [
    "import numpy as np\n",
    "import time"
   ]
  },
  {
   "cell_type": "code",
   "execution_count": 76,
   "id": "bb7b5358",
   "metadata": {},
   "outputs": [],
   "source": [
    "def HO_SVD(A, r1, r2, r3):\n",
    "    n1,n2,n3 = A.shape\n",
    "    #print(A.shape)\n",
    "    A1 = A.reshape(n1, n2*n3)\n",
    "    U, s, V = np.linalg.svd(A1, full_matrices=False)\n",
    "    V1 = U[:,:r1] \n",
    "    V1 = V1.T\n",
    "    #print(\"V1 shape\", V1.shape, np.linalg.norm(V1, ord=2))\n",
    "    A1 = np.diag(s[:r1]) @ V[:r1,:] # r1 x n2*n3\n",
    "    A1 = A1.reshape(r1, n2, n3)\n",
    "    A1 = A1.transpose([0,2,1])\n",
    "    A1 = A1.reshape(r1 * n3, n2)# r1 * n3 x n2\n",
    "    U, s, V = np.linalg.svd(A1, full_matrices=False)\n",
    "    V2 =  V[:r2,:] # r2 x n2\n",
    "    #print(\"V2 shape\", V2.shape, np.linalg.norm(V2, ord=2))\n",
    "    U2 = U[:,:r2] @ np.diag(s[:r2]) # r1*n3 x r2\n",
    "    U2 = U2.reshape(r1, n3, r2) # r1 x n3 x r2\n",
    "    U2 = U2.transpose([0,2,1]) # r1 x r2 x n3\n",
    "    U2 = U2.reshape(r1 * r2, n3) # r1*r2 x n3\n",
    "    U, s, V = np.linalg.svd(U2, full_matrices=False)\n",
    "    V3 = V[:r3,:] # U3(r3,j)\n",
    "    #print(\"V3 shape\", V3.shape, np.linalg.norm(V3, ord=2))\n",
    "    G = U[:,:r3] @ np.diag(s[:r3])# r1 * r2 x r3\n",
    "    #print(\"main core shape\", G.shape)\n",
    "    G = G.reshape(r1, r2, r3) # main core\n",
    "    return G, V1, V2, V3\n",
    "\n",
    "def Check(A, G, V1, V2, V3):\n",
    "    # || A - A_tucker||_F \n",
    "    err = 0\n",
    "    r1, r2, r3 = G.shape\n",
    "    A1 = G.reshape(r1 * r2, r3).dot(V3) # r1*r2 x n3\n",
    "    A1 = A1.reshape(r1, r2, V3.shape[1]).transpose([0,2,1]) # r1 x r2 x n3\n",
    "    A1 = A1.reshape(r1*V3.shape[1], r2).dot(V2) # r1*n3 x n2\n",
    "    A1 = A1.reshape(r1, V3.shape[1], V2.shape[1]).transpose([1,2,0]) # n3 x n2 x r1\n",
    "    A1 = A1.reshape(V3.shape[1], V2.shape[1], r1).dot(V1) # n3 x n2 x n1\n",
    "    A1 = A1.transpose([2,1,0]) # n1 x n2 x n3\n",
    "    return np.linalg.norm(A - A1) #error norm"
   ]
  },
  {
   "cell_type": "code",
   "execution_count": 77,
   "id": "1091abb6",
   "metadata": {},
   "outputs": [
    {
     "name": "stdout",
     "output_type": "stream",
     "text": [
      "Error = 1.5886924857596471e-12\n",
      "CPU times: user 300 ms, sys: 23.3 ms, total: 323 ms\n",
      "Wall time: 335 ms\n"
     ]
    }
   ],
   "source": [
    "%%time\n",
    "\n",
    "N = 64\n",
    "A = np.zeros([N,N,N])\n",
    "for i in range(N):\n",
    "    for j in range(N):\n",
    "        for k in range(N):\n",
    "            A[i,j,k] = np.sin(i+2.*j+3.*k)\n",
    "G, V1, V2, V3 = HO_SVD(A,4,4,4)\n",
    "print(\"Error =\", Check(A, G, V1,V2,V3))"
   ]
  },
  {
   "cell_type": "code",
   "execution_count": 70,
   "id": "bd15c0cd",
   "metadata": {},
   "outputs": [
    {
     "name": "stdout",
     "output_type": "stream",
     "text": [
      "Error = 1.504309895484143e-13\n",
      "CPU times: user 61.8 ms, sys: 3.61 ms, total: 65.4 ms\n",
      "Wall time: 63.7 ms\n"
     ]
    }
   ],
   "source": [
    "%%time\n",
    "\n",
    "N = 32\n",
    "A = np.zeros([N,N,N])\n",
    "for i in range(N):\n",
    "    for j in range(N):\n",
    "        for k in range(N):\n",
    "            A[i,j,k] = np.cos(i+2.*j+3.*k)\n",
    "G, V1, V2, V3 = HOSVD_3d(A,2,2,2)\n",
    "print(\"Error =\", compute_err_np_tuck(A, G, V1,V2,V3))"
   ]
  },
  {
   "cell_type": "markdown",
   "id": "253f0f03",
   "metadata": {},
   "source": [
    "### Многомерный случай"
   ]
  },
  {
   "cell_type": "code",
   "execution_count": null,
   "id": "b61b729c",
   "metadata": {},
   "outputs": [],
   "source": []
  }
 ],
 "metadata": {
  "kernelspec": {
   "display_name": "Python 3",
   "language": "python",
   "name": "python3"
  },
  "language_info": {
   "codemirror_mode": {
    "name": "ipython",
    "version": 3
   },
   "file_extension": ".py",
   "mimetype": "text/x-python",
   "name": "python",
   "nbconvert_exporter": "python",
   "pygments_lexer": "ipython3",
   "version": "3.8.8"
  }
 },
 "nbformat": 4,
 "nbformat_minor": 5
}
